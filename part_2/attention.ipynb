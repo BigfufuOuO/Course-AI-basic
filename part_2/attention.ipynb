{
 "cells": [
  {
   "cell_type": "markdown",
   "id": "c404b44d-a95e-48f2-904c-8b3d92ff8468",
   "metadata": {},
   "source": [
    "## 注意力机制Attention:\n",
    "\n",
    "### 简介:\n",
    "\n",
    "这一部分是Transformer模型的核心部分,以下部分逐步给出实现过程中可能用到的一些矩阵运算的原理， 以下代码均不需要大家实现,希望大家阅读代码以及下列文档中的信息:\n",
    "\n",
    "https://arxiv.org/abs/1706.03762\n",
    "\n",
    "https://jalammar.github.io/illustrated-transformer/\n",
    "\n",
    "理解Attention的运行机制以及实现过程的数学技巧，完成最后的主文件中的HeadAttention(),MultiHeadAttention()部分。"
   ]
  },
  {
   "cell_type": "markdown",
   "id": "b4579fba-f65b-4a0b-b700-01841ec0ef2a",
   "metadata": {},
   "source": [
    "我们虚构一组输入数据的Embedding用于这部分讲解："
   ]
  },
  {
   "cell_type": "code",
   "execution_count": 9,
   "id": "16c5b454-0aee-4310-b52a-2ce03ed70dc4",
   "metadata": {
    "editable": true,
    "scrolled": true,
    "slideshow": {
     "slide_type": ""
    },
    "tags": []
   },
   "outputs": [
    {
     "name": "stdout",
     "output_type": "stream",
     "text": [
      "Embedding of 0th position:\n",
      " tensor([0.1871, 0.5729, 0.9432, 0.1598, 0.2466, 0.7337, 0.4543, 0.7171, 0.2751,\n",
      "        0.4127, 0.7406, 0.0676, 0.4502, 0.8963, 0.4078, 0.9129])\n",
      "Embedding of 1th position:\n",
      " tensor([0.3547, 0.2431, 0.6216, 0.0833, 0.0251, 0.8722, 0.6959, 0.0732, 0.8515,\n",
      "        0.4331, 0.6258, 0.0605, 0.8798, 0.2157, 0.9914, 0.7378])\n",
      "Embedding of 2th position:\n",
      " tensor([0.6076, 0.6578, 0.2336, 0.9668, 0.2281, 0.7006, 0.7854, 0.2738, 0.3387,\n",
      "        0.2599, 0.2020, 0.7798, 0.6362, 0.6626, 0.1425, 0.9745])\n",
      "Embedding of 3th position:\n",
      " tensor([0.9335, 0.5228, 0.9507, 0.7577, 0.4946, 0.5187, 0.2221, 0.2487, 0.9560,\n",
      "        0.6632, 0.3825, 0.2873, 0.9177, 0.8314, 0.6764, 0.3301])\n",
      "Embedding of 4th position:\n",
      " tensor([0.6072, 0.3791, 0.9668, 0.2989, 0.7493, 0.6435, 0.0162, 0.1578, 0.1426,\n",
      "        0.7176, 0.6305, 0.7508, 0.3079, 0.1527, 0.4698, 0.1419])\n",
      "Embedding of 5th position:\n",
      " tensor([0.0650, 0.9096, 0.1460, 0.5958, 0.1760, 0.8341, 0.6807, 0.9811, 0.3167,\n",
      "        0.8352, 0.2220, 0.3681, 0.8118, 0.7419, 0.8003, 0.8163])\n",
      "Embedding of 6th position:\n",
      " tensor([0.2634, 0.6791, 0.6837, 0.6400, 0.2011, 0.3740, 0.0469, 0.6334, 0.9847,\n",
      "        0.1845, 0.7685, 0.8963, 0.7407, 0.5908, 0.4246, 0.4794])\n",
      "Embedding of 7th position:\n",
      " tensor([0.7691, 0.7282, 0.3378, 0.3787, 0.8797, 0.7738, 0.8881, 0.1222, 0.0924,\n",
      "        0.7558, 0.2856, 0.6970, 0.1013, 0.2480, 0.4770, 0.7946])\n"
     ]
    }
   ],
   "source": [
    "import torch\n",
    "from torch import nn\n",
    "import torch.nn.functional as F\n",
    "B, T, C = 1, 8, 16   ## B: batch size 一次训练的数据量, T: context length 前文token数, C: embedding length 隐变量长度\n",
    "inputData = torch.rand(size=(B,T,C))\n",
    "\n",
    "for i in range(T):\n",
    "    print(f\"Embedding of {i}th position:\\n {inputData[0,i]}\")\n"
   ]
  },
  {
   "cell_type": "markdown",
   "id": "fc0aeaa6-8340-4244-a9e8-1e606afa5796",
   "metadata": {},
   "source": [
    "Attention从直观上可以理解为对前文各个位置信息的融合以获得当前语境所需的信息。 一个最简单的融合方式为对前文Embedding加权求和作为当前位置的信息。\n",
    "\n",
    "我们计算第i个位置的融合后的embedding:\n",
    "\n",
    "假设前i个位置的embedding的权重相同，均为1/i，即更新后第i个位置embedding为前文所有位置embedding的平均值："
   ]
  },
  {
   "cell_type": "code",
   "execution_count": 10,
   "id": "a6aa8430-d3d0-4d4b-85f2-6bd04ef258b2",
   "metadata": {},
   "outputs": [
    {
     "name": "stdout",
     "output_type": "stream",
     "text": [
      "Embedding of Data after aggregate context embedding:\n",
      " tensor([[[0.1871, 0.5729, 0.9432, 0.1598, 0.2466, 0.7337, 0.4543, 0.7171,\n",
      "          0.2751, 0.4127, 0.7406, 0.0676, 0.4502, 0.8963, 0.4078, 0.9129],\n",
      "         [0.2709, 0.4080, 0.7824, 0.1216, 0.1358, 0.8030, 0.5751, 0.3951,\n",
      "          0.5633, 0.4229, 0.6832, 0.0640, 0.6650, 0.5560, 0.6996, 0.8253],\n",
      "         [0.3552, 0.5463, 0.6531, 0.4160, 0.2035, 0.7458, 0.6050, 0.4620,\n",
      "          0.3924, 0.3652, 0.5419, 0.3038, 0.5838, 0.7050, 0.4166, 0.9042],\n",
      "         [0.4367, 0.5125, 0.8323, 0.3638, 0.2701, 0.7003, 0.4641, 0.4557,\n",
      "          0.5467, 0.4660, 0.5871, 0.1807, 0.6542, 0.7472, 0.5501, 0.7431],\n",
      "         [0.3714, 0.4838, 0.8356, 0.2720, 0.3211, 0.7253, 0.4230, 0.4375,\n",
      "          0.3840, 0.4769, 0.6367, 0.2733, 0.5322, 0.6114, 0.5088, 0.7055],\n",
      "         [0.2810, 0.5722, 0.6988, 0.3215, 0.2255, 0.7570, 0.5337, 0.5748,\n",
      "          0.4130, 0.4965, 0.5686, 0.2096, 0.6162, 0.7097, 0.5639, 0.8179],\n",
      "         [0.3094, 0.5393, 0.7756, 0.3278, 0.2291, 0.6913, 0.4432, 0.5251,\n",
      "          0.5085, 0.4035, 0.6467, 0.2850, 0.6060, 0.6881, 0.5102, 0.7698],\n",
      "         [0.3726, 0.5454, 0.7323, 0.2951, 0.3139, 0.7413, 0.5483, 0.4612,\n",
      "          0.3969, 0.4750, 0.5863, 0.2601, 0.5261, 0.6452, 0.5168, 0.8092]]])\n"
     ]
    }
   ],
   "source": [
    "def Attention_version1(contextEmbeddings):\n",
    "    for i in range(T):\n",
    "        context_embeddings = contextEmbeddings[0,:i+1,:] ## shape [i+1, C]\n",
    "        new_embedding_for_i = torch.mean(context_embeddings,dim=0)\n",
    "        contextEmbeddings[0,i] = new_embedding_for_i\n",
    "    return contextEmbeddings\n",
    "\n",
    "print(\"Embedding of Data after aggregate context embedding:\\n\", Attention_version1(inputData))"
   ]
  },
  {
   "cell_type": "markdown",
   "id": "a9522221-a804-42c0-9a3e-4f4eb236bac0",
   "metadata": {},
   "source": [
    "我们将上述的mean操作换为等价的矩阵运算，以i=3 为例：\n",
    "\n",
    "new_embedding_for_3 = torch.mean(contextEmbeddings[0,:3+1],dim=0)\n",
    "\n",
    "等价于(@ 是矩阵乘法):\n",
    "\n",
    "new_embedding_for_3 = contextEmbeddings[0] @ torch.tensor([1/4,1/4,1/4,1/4,0,0,0,0])"
   ]
  },
  {
   "cell_type": "code",
   "execution_count": 11,
   "id": "9f2f1aa4-2f26-4074-87c0-9c52719d5af0",
   "metadata": {},
   "outputs": [
    {
     "name": "stdout",
     "output_type": "stream",
     "text": [
      "Attention_version1 equivalent to Attention_version2:  True\n"
     ]
    }
   ],
   "source": [
    "def Attention_version2(contextEmbeddings):\n",
    "    for i in range(T):\n",
    "        weight = torch.cat((torch.ones(i+1) / (i+1),torch.zeros(T-i-1,dtype=torch.float)),dim=0)\n",
    "        contextEmbeddings[0,i] = weight @ contextEmbeddings[0]\n",
    "    return contextEmbeddings\n",
    "\n",
    "print(\"Attention_version1 equivalent to Attention_version2: \",torch.all(Attention_version1(inputData) == Attention_version2(inputData)).item())"
   ]
  },
  {
   "cell_type": "markdown",
   "id": "b7daf38d-8411-4f24-98f1-85d9b1d59f47",
   "metadata": {},
   "source": [
    "接下来我们用矩阵运算进一步简化上述运算，移除其中的for循环:\n",
    "\n",
    "其中 weight = torch.tril(torch.ones(T,T)) 得到:\n",
    "\n",
    "[[1., 0., 0., 0., 0., 0., 0., 0.],\n",
    "\n",
    " [1., 1., 0., 0., 0., 0., 0., 0.],\n",
    " \n",
    " [1., 1., 1., 0., 0., 0., 0., 0.],\n",
    " \n",
    " [1., 1., 1., 1., 0., 0., 0., 0.],\n",
    " \n",
    " [1., 1., 1., 1., 1., 0., 0., 0.],\n",
    " \n",
    " [1., 1., 1., 1., 1., 1., 0., 0.],\n",
    " \n",
    " [1., 1., 1., 1., 1., 1., 1., 0.],\n",
    " \n",
    " [1., 1., 1., 1., 1., 1., 1., 1.]]\n",
    " \n",
    "表示前文的求和权重相同都为一。\n",
    "\n",
    "weight = weight.masked_fill(weight==0,float(\"-inf\"))\n",
    "\n",
    "weight = F.softmax(weight)\n",
    "\n",
    "这两行用于归一化weight,即每一次加权求和的权重和为1，具体详见Softmax公式,我们可得到：\n",
    "\n",
    "[[1.0000, 0.0000, 0.0000, 0.0000, 0.0000, 0.0000, 0.0000, 0.0000],\n",
    "\n",
    "[0.5000, 0.5000, 0.0000, 0.0000, 0.0000, 0.0000, 0.0000, 0.0000],\n",
    "\n",
    "[0.3333, 0.3333, 0.3333, 0.0000, 0.0000, 0.0000, 0.0000, 0.0000],\n",
    "\n",
    "[0.2500, 0.2500, 0.2500, 0.2500, 0.0000, 0.0000, 0.0000, 0.0000],\n",
    "\n",
    "[0.2000, 0.2000, 0.2000, 0.2000, 0.2000, 0.0000, 0.0000, 0.0000],\n",
    "\n",
    "[0.1667, 0.1667, 0.1667, 0.1667, 0.1667, 0.1667, 0.0000, 0.0000],\n",
    "\n",
    "[0.1429, 0.1429, 0.1429, 0.1429, 0.1429, 0.1429, 0.1429, 0.0000],\n",
    "\n",
    "[0.1250, 0.1250, 0.1250, 0.1250, 0.1250, 0.1250, 0.1250, 0.1250]]\n"
   ]
  },
  {
   "cell_type": "code",
   "execution_count": 7,
   "id": "2a002dbd-4564-4c30-bb38-3b9cb8a00f3b",
   "metadata": {},
   "outputs": [
    {
     "name": "stdout",
     "output_type": "stream",
     "text": [
      "weight of context embeddings:\n",
      " tensor([[1., 0., 0., 0., 0., 0., 0., 0.],\n",
      "        [1., 1., 0., 0., 0., 0., 0., 0.],\n",
      "        [1., 1., 1., 0., 0., 0., 0., 0.],\n",
      "        [1., 1., 1., 1., 0., 0., 0., 0.],\n",
      "        [1., 1., 1., 1., 1., 0., 0., 0.],\n",
      "        [1., 1., 1., 1., 1., 1., 0., 0.],\n",
      "        [1., 1., 1., 1., 1., 1., 1., 0.],\n",
      "        [1., 1., 1., 1., 1., 1., 1., 1.]])\n",
      "weight of context embeddings after regularization:\n",
      " tensor([[1.0000, 0.0000, 0.0000, 0.0000, 0.0000, 0.0000, 0.0000, 0.0000],\n",
      "        [0.5000, 0.5000, 0.0000, 0.0000, 0.0000, 0.0000, 0.0000, 0.0000],\n",
      "        [0.3333, 0.3333, 0.3333, 0.0000, 0.0000, 0.0000, 0.0000, 0.0000],\n",
      "        [0.2500, 0.2500, 0.2500, 0.2500, 0.0000, 0.0000, 0.0000, 0.0000],\n",
      "        [0.2000, 0.2000, 0.2000, 0.2000, 0.2000, 0.0000, 0.0000, 0.0000],\n",
      "        [0.1667, 0.1667, 0.1667, 0.1667, 0.1667, 0.1667, 0.0000, 0.0000],\n",
      "        [0.1429, 0.1429, 0.1429, 0.1429, 0.1429, 0.1429, 0.1429, 0.0000],\n",
      "        [0.1250, 0.1250, 0.1250, 0.1250, 0.1250, 0.1250, 0.1250, 0.1250]])\n",
      "Attention_version1 equivalent to Attention_version3:  True\n"
     ]
    }
   ],
   "source": [
    "def Attention_version3(contextEmbeddings):\n",
    "    B, T, C = contextEmbeddings.shape\n",
    "    weight = torch.tril(torch.ones(T,T))\n",
    "    print(\"weight of context embeddings:\\n\",weight)\n",
    "    weight = weight.masked_fill(weight==0,float(\"-inf\"))\n",
    "    weight = F.softmax(weight,dim=1)\n",
    "    print(\"weight of context embeddings after regularization:\\n\",weight)\n",
    "    contextEmbeddings[0] = weight @ contextEmbeddings[0]\n",
    "    return contextEmbeddings\n",
    "\n",
    "print(\"Attention_version1 equivalent to Attention_version3: \",torch.all(Attention_version1(inputData) == Attention_version3(inputData)).item())"
   ]
  },
  {
   "cell_type": "markdown",
   "id": "90ede396-fe51-4189-a7f2-d204dcc89a2b",
   "metadata": {},
   "source": [
    "最后，我们确定计算weight的方法，上述三个版本的weight都是假定所有前文信息的重要程度相同,在大语言模型中，我们希望有一个灵活的方式计算前文信息对应当前语境的重要程度，为此Transformer引入了Query，Key，Value:\n",
    "\n",
    "其中Query可以理解为当前语境对于前文信息的需求，Key可以理解为前文包含信息的索引，Value为前文所包含的信息。\n",
    "\n",
    "Query 和 Key 用来计算信息融合的weight.\n",
    "\n",
    "如何计算Query和Key，并用他们计算weight对Value加权求和是这次实验的重点内容，这里不能给出大家具体代码，希望大家参见Attention is All you need原论文以及助教提供的文档最后的参考链接学习这部分。\n",
    "\n",
    "利于Query和Key得出的是信息相关性，我们需要遮盖住下文的信息(生成第i个token时，只可以使用0到i-1处的信息)，并且要对相关性归一化使之可以作为weight。这里利于Attension_version3()中的结论给出如何对计算出来的相关性加掩码和归一化:\n"
   ]
  },
  {
   "cell_type": "code",
   "execution_count": 8,
   "id": "af1f1973-fd77-4601-9028-5d6260845ecb",
   "metadata": {},
   "outputs": [
    {
     "name": "stdout",
     "output_type": "stream",
     "text": [
      "weight before mask and normalize:\n",
      " tensor([[5.5676e-01, 9.4231e-01, 5.1067e-01, 7.5773e-01, 1.6254e-01, 9.4655e-01,\n",
      "         5.3268e-01, 6.7807e-01],\n",
      "        [2.9409e-01, 9.6507e-01, 1.1124e-01, 2.7023e-02, 1.0419e-01, 9.1842e-01,\n",
      "         8.9423e-01, 1.9520e-01],\n",
      "        [5.5079e-01, 3.5385e-01, 4.4868e-01, 1.9307e-01, 8.0032e-01, 2.5918e-02,\n",
      "         2.8909e-01, 7.7354e-01],\n",
      "        [4.7963e-01, 2.1382e-01, 2.4471e-01, 2.3849e-02, 9.9436e-01, 5.4707e-01,\n",
      "         6.0641e-01, 6.9419e-01],\n",
      "        [5.2073e-01, 2.5474e-03, 5.3586e-01, 1.9880e-01, 9.4446e-01, 5.0853e-02,\n",
      "         5.7236e-01, 3.0462e-01],\n",
      "        [3.9553e-01, 8.0423e-01, 6.3437e-02, 8.3306e-02, 7.4547e-01, 6.9222e-01,\n",
      "         1.8560e-02, 5.5100e-01],\n",
      "        [2.4007e-01, 3.6904e-01, 8.6105e-01, 2.4039e-02, 2.3494e-01, 3.8838e-01,\n",
      "         9.8474e-01, 7.5347e-01],\n",
      "        [7.6678e-01, 4.7956e-01, 7.1612e-01, 7.5432e-01, 9.7332e-01, 3.9041e-04,\n",
      "         4.2841e-02, 4.8691e-01]])\n",
      "weight after mask and normalize:\n",
      " tensor([[1.0000, 0.0000, 0.0000, 0.0000, 0.0000, 0.0000, 0.0000, 0.0000],\n",
      "        [0.3383, 0.6617, 0.0000, 0.0000, 0.0000, 0.0000, 0.0000, 0.0000],\n",
      "        [0.3671, 0.3015, 0.3315, 0.0000, 0.0000, 0.0000, 0.0000, 0.0000],\n",
      "        [0.3134, 0.2402, 0.2478, 0.1987, 0.0000, 0.0000, 0.0000, 0.0000],\n",
      "        [0.2056, 0.1225, 0.2088, 0.1490, 0.3141, 0.0000, 0.0000, 0.0000],\n",
      "        [0.1488, 0.2240, 0.1068, 0.1089, 0.2112, 0.2003, 0.0000, 0.0000],\n",
      "        [0.1103, 0.1255, 0.2053, 0.0889, 0.1098, 0.1280, 0.2323, 0.0000],\n",
      "        [0.1510, 0.1133, 0.1435, 0.1491, 0.1856, 0.0702, 0.0732, 0.1141]])\n"
     ]
    }
   ],
   "source": [
    "def weight_mask_and_normalization(weight):\n",
    "    tril = torch.tril(torch.ones_like(weight))\n",
    "    weight = weight.masked_fill(tril == 0, float(\"-inf\"))\n",
    "    weight = F.softmax(weight,dim=-1)\n",
    "    return weight\n",
    "\n",
    "weight = torch.rand(T,T)\n",
    "print(\"weight before mask and normalize:\\n\",weight)\n",
    "print(\"weight after mask and normalize:\\n\",weight_mask_and_normalization(weight))"
   ]
  }
 ],
 "metadata": {
  "kernelspec": {
   "display_name": "Python 3 (ipykernel)",
   "language": "python",
   "name": "python3"
  },
  "language_info": {
   "codemirror_mode": {
    "name": "ipython",
    "version": 3
   },
   "file_extension": ".py",
   "mimetype": "text/x-python",
   "name": "python",
   "nbconvert_exporter": "python",
   "pygments_lexer": "ipython3",
   "version": "3.11.3"
  }
 },
 "nbformat": 4,
 "nbformat_minor": 5
}
